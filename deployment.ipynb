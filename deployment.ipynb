{
 "cells": [
  {
   "cell_type": "code",
   "execution_count": null,
   "id": "4653292b",
   "metadata": {},
   "outputs": [],
   "source": [
    "from flask import Flask, request, jsonify\n",
    "import joblib\n",
    "import pandas as pd"
   ]
  },
  {
   "cell_type": "code",
   "execution_count": null,
   "id": "bf26bcbb",
   "metadata": {},
   "outputs": [],
   "source": [
    "app = Flask(__name__)\n",
    "\n",
    "# Load the trained model\n",
    "model = joblib.load('bestmodel.pkl')\n",
    "\n",
    "@app.route('/')\n",
    "def home():\n",
    "    return \"Welcome to the Football Players Rating Prediction API\"\n",
    "\n",
    "@app.route('/predict', methods=['POST'])\n",
    "def predict():\n",
    "    data = request.json\n",
    "    # Convert the data into a DataFrame\n",
    "    df = pd.DataFrame(data)\n",
    "    # Ensure the DataFrame matches the model's expected input format\n",
    "    selected_columns = [\n",
    "        'movement_reactions', 'potential', 'passing', 'mentality_composure', 'value_eur',\n",
    "        'dribbling', 'attacking_short_passing', 'mentality_vision', 'international_reputation',\n",
    "        'skill_long_passing', 'power_shot_power', 'physic', 'skill_ball_control', 'shooting',\n",
    "        'skill_curve', 'power_long_shots', 'mentality_aggression', 'attacking_crossing',\n",
    "        'skill_fk_accuracy', 'attacking_volleys', 'skill_dribbling', 'power_stamina',\n",
    "        'power_strength', 'mentality_positioning', 'attacking_heading_accuracy', 'mentality_penalties',\n",
    "        'skill_moves', 'attacking_finishing', 'mentality_interceptions', 'defending',\n",
    "        'power_jumping', 'defending_marking_awareness', 'movement_agility',\n",
    "        'defending_standing_tackle', 'defending_sliding_tackle', 'weak_foot',\n",
    "        'movement_sprint_speed', 'league_level', 'player_id'\n",
    "    ]\n",
    "    df = df[selected_columns]\n",
    "\n",
    "    # Make predictions\n",
    "    predictions = model.predict(df)\n",
    "    return jsonify(predictions.tolist())"
   ]
  },
  {
   "cell_type": "code",
   "execution_count": null,
   "id": "b97efae5",
   "metadata": {},
   "outputs": [],
   "source": [
    "if __name__ == '__main__':\n",
    "    app.run(debug=True)"
   ]
  }
 ],
 "metadata": {
  "kernelspec": {
   "display_name": "Python 3 (ipykernel)",
   "language": "python",
   "name": "python3"
  },
  "language_info": {
   "codemirror_mode": {
    "name": "ipython",
    "version": 3
   },
   "file_extension": ".py",
   "mimetype": "text/x-python",
   "name": "python",
   "nbconvert_exporter": "python",
   "pygments_lexer": "ipython3",
   "version": "3.11.7"
  }
 },
 "nbformat": 4,
 "nbformat_minor": 5
}
